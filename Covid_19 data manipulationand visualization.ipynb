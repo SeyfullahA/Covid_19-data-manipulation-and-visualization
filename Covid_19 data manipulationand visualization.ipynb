{
 "cells": [
  {
   "cell_type": "code",
   "execution_count": 36,
   "id": "ee31ebcd-664f-473f-85af-66aa3ef4b52e",
   "metadata": {},
   "outputs": [],
   "source": [
    "import pandas as pn\n",
    "import numpy as np\n",
    "import seaborn as sns\n",
    "import matplotlib.pyplot as ply\n",
    "import plotly.express as pt"
   ]
  },
  {
   "cell_type": "code",
   "execution_count": 37,
   "id": "05daf8e6-a403-4a08-8d73-16640c7013a9",
   "metadata": {},
   "outputs": [],
   "source": [
    "deaths_global=pn.read_csv(\"time_series_covid19_deaths_global.csv\")\n",
    "confirmed_global=pn.read_csv(\"time_series_covid19_confirmed_global.csv\")\n",
    "recorved_global=pn.read_csv(\"time_series_covid19_recovered_global.csv\")"
   ]
  },
  {
   "cell_type": "code",
   "execution_count": 38,
   "id": "423ba642-4fd3-4ba3-8168-569a2f898131",
   "metadata": {},
   "outputs": [],
   "source": [
    "dg=deaths_global.copy()\n",
    "cg=confirmed_global.copy()\n",
    "rg=recorved_global.copy()"
   ]
  },
  {
   "cell_type": "code",
   "execution_count": 39,
   "id": "9199cfd9-8fda-478b-b274-2a04a1e3b149",
   "metadata": {
    "collapsed": true,
    "jupyter": {
     "outputs_hidden": true
    },
    "tags": []
   },
   "outputs": [
    {
     "data": {
      "text/html": [
       "<div>\n",
       "<style scoped>\n",
       "    .dataframe tbody tr th:only-of-type {\n",
       "        vertical-align: middle;\n",
       "    }\n",
       "\n",
       "    .dataframe tbody tr th {\n",
       "        vertical-align: top;\n",
       "    }\n",
       "\n",
       "    .dataframe thead th {\n",
       "        text-align: right;\n",
       "    }\n",
       "</style>\n",
       "<table border=\"1\" class=\"dataframe\">\n",
       "  <thead>\n",
       "    <tr style=\"text-align: right;\">\n",
       "      <th></th>\n",
       "      <th>Province/State</th>\n",
       "      <th>Country/Region</th>\n",
       "      <th>Lat</th>\n",
       "      <th>Long</th>\n",
       "      <th>1/22/20</th>\n",
       "      <th>1/23/20</th>\n",
       "      <th>1/24/20</th>\n",
       "      <th>1/25/20</th>\n",
       "      <th>1/26/20</th>\n",
       "      <th>1/27/20</th>\n",
       "      <th>...</th>\n",
       "      <th>3/26/22</th>\n",
       "      <th>3/27/22</th>\n",
       "      <th>3/28/22</th>\n",
       "      <th>3/29/22</th>\n",
       "      <th>3/30/22</th>\n",
       "      <th>3/31/22</th>\n",
       "      <th>4/1/22</th>\n",
       "      <th>4/2/22</th>\n",
       "      <th>4/3/22</th>\n",
       "      <th>4/4/22</th>\n",
       "    </tr>\n",
       "  </thead>\n",
       "  <tbody>\n",
       "    <tr>\n",
       "      <th>0</th>\n",
       "      <td>NaN</td>\n",
       "      <td>Afghanistan</td>\n",
       "      <td>33.93911</td>\n",
       "      <td>67.709953</td>\n",
       "      <td>0</td>\n",
       "      <td>0</td>\n",
       "      <td>0</td>\n",
       "      <td>0</td>\n",
       "      <td>0</td>\n",
       "      <td>0</td>\n",
       "      <td>...</td>\n",
       "      <td>177321</td>\n",
       "      <td>177520</td>\n",
       "      <td>177602</td>\n",
       "      <td>177658</td>\n",
       "      <td>177716</td>\n",
       "      <td>177747</td>\n",
       "      <td>177782</td>\n",
       "      <td>177803</td>\n",
       "      <td>177827</td>\n",
       "      <td>177897</td>\n",
       "    </tr>\n",
       "    <tr>\n",
       "      <th>1</th>\n",
       "      <td>NaN</td>\n",
       "      <td>Albania</td>\n",
       "      <td>41.15330</td>\n",
       "      <td>20.168300</td>\n",
       "      <td>0</td>\n",
       "      <td>0</td>\n",
       "      <td>0</td>\n",
       "      <td>0</td>\n",
       "      <td>0</td>\n",
       "      <td>0</td>\n",
       "      <td>...</td>\n",
       "      <td>273387</td>\n",
       "      <td>273432</td>\n",
       "      <td>273432</td>\n",
       "      <td>273529</td>\n",
       "      <td>273608</td>\n",
       "      <td>273677</td>\n",
       "      <td>273759</td>\n",
       "      <td>273823</td>\n",
       "      <td>273870</td>\n",
       "      <td>273913</td>\n",
       "    </tr>\n",
       "    <tr>\n",
       "      <th>2</th>\n",
       "      <td>NaN</td>\n",
       "      <td>Algeria</td>\n",
       "      <td>28.03390</td>\n",
       "      <td>1.659600</td>\n",
       "      <td>0</td>\n",
       "      <td>0</td>\n",
       "      <td>0</td>\n",
       "      <td>0</td>\n",
       "      <td>0</td>\n",
       "      <td>0</td>\n",
       "      <td>...</td>\n",
       "      <td>265621</td>\n",
       "      <td>265629</td>\n",
       "      <td>265641</td>\n",
       "      <td>265651</td>\n",
       "      <td>265662</td>\n",
       "      <td>265671</td>\n",
       "      <td>265679</td>\n",
       "      <td>265684</td>\n",
       "      <td>265691</td>\n",
       "      <td>265694</td>\n",
       "    </tr>\n",
       "    <tr>\n",
       "      <th>3</th>\n",
       "      <td>NaN</td>\n",
       "      <td>Andorra</td>\n",
       "      <td>42.50630</td>\n",
       "      <td>1.521800</td>\n",
       "      <td>0</td>\n",
       "      <td>0</td>\n",
       "      <td>0</td>\n",
       "      <td>0</td>\n",
       "      <td>0</td>\n",
       "      <td>0</td>\n",
       "      <td>...</td>\n",
       "      <td>39713</td>\n",
       "      <td>39713</td>\n",
       "      <td>39713</td>\n",
       "      <td>39713</td>\n",
       "      <td>40024</td>\n",
       "      <td>40024</td>\n",
       "      <td>40024</td>\n",
       "      <td>40024</td>\n",
       "      <td>40024</td>\n",
       "      <td>40024</td>\n",
       "    </tr>\n",
       "    <tr>\n",
       "      <th>4</th>\n",
       "      <td>NaN</td>\n",
       "      <td>Angola</td>\n",
       "      <td>-11.20270</td>\n",
       "      <td>17.873900</td>\n",
       "      <td>0</td>\n",
       "      <td>0</td>\n",
       "      <td>0</td>\n",
       "      <td>0</td>\n",
       "      <td>0</td>\n",
       "      <td>0</td>\n",
       "      <td>...</td>\n",
       "      <td>99106</td>\n",
       "      <td>99115</td>\n",
       "      <td>99115</td>\n",
       "      <td>99138</td>\n",
       "      <td>99138</td>\n",
       "      <td>99169</td>\n",
       "      <td>99194</td>\n",
       "      <td>99194</td>\n",
       "      <td>99194</td>\n",
       "      <td>99194</td>\n",
       "    </tr>\n",
       "  </tbody>\n",
       "</table>\n",
       "<p>5 rows × 808 columns</p>\n",
       "</div>"
      ],
      "text/plain": [
       "  Province/State Country/Region       Lat       Long  1/22/20  1/23/20  \\\n",
       "0            NaN    Afghanistan  33.93911  67.709953        0        0   \n",
       "1            NaN        Albania  41.15330  20.168300        0        0   \n",
       "2            NaN        Algeria  28.03390   1.659600        0        0   \n",
       "3            NaN        Andorra  42.50630   1.521800        0        0   \n",
       "4            NaN         Angola -11.20270  17.873900        0        0   \n",
       "\n",
       "   1/24/20  1/25/20  1/26/20  1/27/20  ...  3/26/22  3/27/22  3/28/22  \\\n",
       "0        0        0        0        0  ...   177321   177520   177602   \n",
       "1        0        0        0        0  ...   273387   273432   273432   \n",
       "2        0        0        0        0  ...   265621   265629   265641   \n",
       "3        0        0        0        0  ...    39713    39713    39713   \n",
       "4        0        0        0        0  ...    99106    99115    99115   \n",
       "\n",
       "   3/29/22  3/30/22  3/31/22  4/1/22  4/2/22  4/3/22  4/4/22  \n",
       "0   177658   177716   177747  177782  177803  177827  177897  \n",
       "1   273529   273608   273677  273759  273823  273870  273913  \n",
       "2   265651   265662   265671  265679  265684  265691  265694  \n",
       "3    39713    40024    40024   40024   40024   40024   40024  \n",
       "4    99138    99138    99169   99194   99194   99194   99194  \n",
       "\n",
       "[5 rows x 808 columns]"
      ]
     },
     "execution_count": 39,
     "metadata": {},
     "output_type": "execute_result"
    }
   ],
   "source": [
    "cg.head()"
   ]
  },
  {
   "cell_type": "code",
   "execution_count": 40,
   "id": "63bc6048-1d8c-4abb-817d-edb1fdbd7d3e",
   "metadata": {
    "collapsed": true,
    "jupyter": {
     "outputs_hidden": true
    },
    "tags": []
   },
   "outputs": [
    {
     "data": {
      "text/html": [
       "<div>\n",
       "<style scoped>\n",
       "    .dataframe tbody tr th:only-of-type {\n",
       "        vertical-align: middle;\n",
       "    }\n",
       "\n",
       "    .dataframe tbody tr th {\n",
       "        vertical-align: top;\n",
       "    }\n",
       "\n",
       "    .dataframe thead th {\n",
       "        text-align: right;\n",
       "    }\n",
       "</style>\n",
       "<table border=\"1\" class=\"dataframe\">\n",
       "  <thead>\n",
       "    <tr style=\"text-align: right;\">\n",
       "      <th></th>\n",
       "      <th>Province/State</th>\n",
       "      <th>Country/Region</th>\n",
       "      <th>Lat</th>\n",
       "      <th>Long</th>\n",
       "      <th>1/22/20</th>\n",
       "      <th>1/23/20</th>\n",
       "      <th>1/24/20</th>\n",
       "      <th>1/25/20</th>\n",
       "      <th>1/26/20</th>\n",
       "      <th>1/27/20</th>\n",
       "      <th>...</th>\n",
       "      <th>3/26/22</th>\n",
       "      <th>3/27/22</th>\n",
       "      <th>3/28/22</th>\n",
       "      <th>3/29/22</th>\n",
       "      <th>3/30/22</th>\n",
       "      <th>3/31/22</th>\n",
       "      <th>4/1/22</th>\n",
       "      <th>4/2/22</th>\n",
       "      <th>4/3/22</th>\n",
       "      <th>4/4/22</th>\n",
       "    </tr>\n",
       "  </thead>\n",
       "  <tbody>\n",
       "    <tr>\n",
       "      <th>0</th>\n",
       "      <td>NaN</td>\n",
       "      <td>Afghanistan</td>\n",
       "      <td>33.93911</td>\n",
       "      <td>67.709953</td>\n",
       "      <td>0</td>\n",
       "      <td>0</td>\n",
       "      <td>0</td>\n",
       "      <td>0</td>\n",
       "      <td>0</td>\n",
       "      <td>0</td>\n",
       "      <td>...</td>\n",
       "      <td>0</td>\n",
       "      <td>0</td>\n",
       "      <td>0</td>\n",
       "      <td>0</td>\n",
       "      <td>0</td>\n",
       "      <td>0</td>\n",
       "      <td>0</td>\n",
       "      <td>0</td>\n",
       "      <td>0</td>\n",
       "      <td>0</td>\n",
       "    </tr>\n",
       "    <tr>\n",
       "      <th>1</th>\n",
       "      <td>NaN</td>\n",
       "      <td>Albania</td>\n",
       "      <td>41.15330</td>\n",
       "      <td>20.168300</td>\n",
       "      <td>0</td>\n",
       "      <td>0</td>\n",
       "      <td>0</td>\n",
       "      <td>0</td>\n",
       "      <td>0</td>\n",
       "      <td>0</td>\n",
       "      <td>...</td>\n",
       "      <td>0</td>\n",
       "      <td>0</td>\n",
       "      <td>0</td>\n",
       "      <td>0</td>\n",
       "      <td>0</td>\n",
       "      <td>0</td>\n",
       "      <td>0</td>\n",
       "      <td>0</td>\n",
       "      <td>0</td>\n",
       "      <td>0</td>\n",
       "    </tr>\n",
       "    <tr>\n",
       "      <th>2</th>\n",
       "      <td>NaN</td>\n",
       "      <td>Algeria</td>\n",
       "      <td>28.03390</td>\n",
       "      <td>1.659600</td>\n",
       "      <td>0</td>\n",
       "      <td>0</td>\n",
       "      <td>0</td>\n",
       "      <td>0</td>\n",
       "      <td>0</td>\n",
       "      <td>0</td>\n",
       "      <td>...</td>\n",
       "      <td>0</td>\n",
       "      <td>0</td>\n",
       "      <td>0</td>\n",
       "      <td>0</td>\n",
       "      <td>0</td>\n",
       "      <td>0</td>\n",
       "      <td>0</td>\n",
       "      <td>0</td>\n",
       "      <td>0</td>\n",
       "      <td>0</td>\n",
       "    </tr>\n",
       "    <tr>\n",
       "      <th>3</th>\n",
       "      <td>NaN</td>\n",
       "      <td>Andorra</td>\n",
       "      <td>42.50630</td>\n",
       "      <td>1.521800</td>\n",
       "      <td>0</td>\n",
       "      <td>0</td>\n",
       "      <td>0</td>\n",
       "      <td>0</td>\n",
       "      <td>0</td>\n",
       "      <td>0</td>\n",
       "      <td>...</td>\n",
       "      <td>0</td>\n",
       "      <td>0</td>\n",
       "      <td>0</td>\n",
       "      <td>0</td>\n",
       "      <td>0</td>\n",
       "      <td>0</td>\n",
       "      <td>0</td>\n",
       "      <td>0</td>\n",
       "      <td>0</td>\n",
       "      <td>0</td>\n",
       "    </tr>\n",
       "    <tr>\n",
       "      <th>4</th>\n",
       "      <td>NaN</td>\n",
       "      <td>Angola</td>\n",
       "      <td>-11.20270</td>\n",
       "      <td>17.873900</td>\n",
       "      <td>0</td>\n",
       "      <td>0</td>\n",
       "      <td>0</td>\n",
       "      <td>0</td>\n",
       "      <td>0</td>\n",
       "      <td>0</td>\n",
       "      <td>...</td>\n",
       "      <td>0</td>\n",
       "      <td>0</td>\n",
       "      <td>0</td>\n",
       "      <td>0</td>\n",
       "      <td>0</td>\n",
       "      <td>0</td>\n",
       "      <td>0</td>\n",
       "      <td>0</td>\n",
       "      <td>0</td>\n",
       "      <td>0</td>\n",
       "    </tr>\n",
       "  </tbody>\n",
       "</table>\n",
       "<p>5 rows × 808 columns</p>\n",
       "</div>"
      ],
      "text/plain": [
       "  Province/State Country/Region       Lat       Long  1/22/20  1/23/20  \\\n",
       "0            NaN    Afghanistan  33.93911  67.709953        0        0   \n",
       "1            NaN        Albania  41.15330  20.168300        0        0   \n",
       "2            NaN        Algeria  28.03390   1.659600        0        0   \n",
       "3            NaN        Andorra  42.50630   1.521800        0        0   \n",
       "4            NaN         Angola -11.20270  17.873900        0        0   \n",
       "\n",
       "   1/24/20  1/25/20  1/26/20  1/27/20  ...  3/26/22  3/27/22  3/28/22  \\\n",
       "0        0        0        0        0  ...        0        0        0   \n",
       "1        0        0        0        0  ...        0        0        0   \n",
       "2        0        0        0        0  ...        0        0        0   \n",
       "3        0        0        0        0  ...        0        0        0   \n",
       "4        0        0        0        0  ...        0        0        0   \n",
       "\n",
       "   3/29/22  3/30/22  3/31/22  4/1/22  4/2/22  4/3/22  4/4/22  \n",
       "0        0        0        0       0       0       0       0  \n",
       "1        0        0        0       0       0       0       0  \n",
       "2        0        0        0       0       0       0       0  \n",
       "3        0        0        0       0       0       0       0  \n",
       "4        0        0        0       0       0       0       0  \n",
       "\n",
       "[5 rows x 808 columns]"
      ]
     },
     "execution_count": 40,
     "metadata": {},
     "output_type": "execute_result"
    }
   ],
   "source": [
    "rg.head()"
   ]
  },
  {
   "cell_type": "code",
   "execution_count": 41,
   "id": "f658dfbd-4b39-4f0c-bd00-104e65ad33f6",
   "metadata": {
    "collapsed": true,
    "jupyter": {
     "outputs_hidden": true
    },
    "tags": []
   },
   "outputs": [
    {
     "data": {
      "text/html": [
       "<div>\n",
       "<style scoped>\n",
       "    .dataframe tbody tr th:only-of-type {\n",
       "        vertical-align: middle;\n",
       "    }\n",
       "\n",
       "    .dataframe tbody tr th {\n",
       "        vertical-align: top;\n",
       "    }\n",
       "\n",
       "    .dataframe thead th {\n",
       "        text-align: right;\n",
       "    }\n",
       "</style>\n",
       "<table border=\"1\" class=\"dataframe\">\n",
       "  <thead>\n",
       "    <tr style=\"text-align: right;\">\n",
       "      <th></th>\n",
       "      <th>Province/State</th>\n",
       "      <th>Country/Region</th>\n",
       "      <th>Lat</th>\n",
       "      <th>Long</th>\n",
       "      <th>1/22/20</th>\n",
       "      <th>1/23/20</th>\n",
       "      <th>1/24/20</th>\n",
       "      <th>1/25/20</th>\n",
       "      <th>1/26/20</th>\n",
       "      <th>1/27/20</th>\n",
       "      <th>...</th>\n",
       "      <th>3/26/22</th>\n",
       "      <th>3/27/22</th>\n",
       "      <th>3/28/22</th>\n",
       "      <th>3/29/22</th>\n",
       "      <th>3/30/22</th>\n",
       "      <th>3/31/22</th>\n",
       "      <th>4/1/22</th>\n",
       "      <th>4/2/22</th>\n",
       "      <th>4/3/22</th>\n",
       "      <th>4/4/22</th>\n",
       "    </tr>\n",
       "  </thead>\n",
       "  <tbody>\n",
       "    <tr>\n",
       "      <th>0</th>\n",
       "      <td>NaN</td>\n",
       "      <td>Afghanistan</td>\n",
       "      <td>33.93911</td>\n",
       "      <td>67.709953</td>\n",
       "      <td>0</td>\n",
       "      <td>0</td>\n",
       "      <td>0</td>\n",
       "      <td>0</td>\n",
       "      <td>0</td>\n",
       "      <td>0</td>\n",
       "      <td>...</td>\n",
       "      <td>7657</td>\n",
       "      <td>7662</td>\n",
       "      <td>7663</td>\n",
       "      <td>7665</td>\n",
       "      <td>7667</td>\n",
       "      <td>7670</td>\n",
       "      <td>7670</td>\n",
       "      <td>7671</td>\n",
       "      <td>7671</td>\n",
       "      <td>7671</td>\n",
       "    </tr>\n",
       "    <tr>\n",
       "      <th>1</th>\n",
       "      <td>NaN</td>\n",
       "      <td>Albania</td>\n",
       "      <td>41.15330</td>\n",
       "      <td>20.168300</td>\n",
       "      <td>0</td>\n",
       "      <td>0</td>\n",
       "      <td>0</td>\n",
       "      <td>0</td>\n",
       "      <td>0</td>\n",
       "      <td>0</td>\n",
       "      <td>...</td>\n",
       "      <td>3491</td>\n",
       "      <td>3491</td>\n",
       "      <td>3491</td>\n",
       "      <td>3492</td>\n",
       "      <td>3492</td>\n",
       "      <td>3492</td>\n",
       "      <td>3492</td>\n",
       "      <td>3492</td>\n",
       "      <td>3492</td>\n",
       "      <td>3492</td>\n",
       "    </tr>\n",
       "    <tr>\n",
       "      <th>2</th>\n",
       "      <td>NaN</td>\n",
       "      <td>Algeria</td>\n",
       "      <td>28.03390</td>\n",
       "      <td>1.659600</td>\n",
       "      <td>0</td>\n",
       "      <td>0</td>\n",
       "      <td>0</td>\n",
       "      <td>0</td>\n",
       "      <td>0</td>\n",
       "      <td>0</td>\n",
       "      <td>...</td>\n",
       "      <td>6873</td>\n",
       "      <td>6873</td>\n",
       "      <td>6873</td>\n",
       "      <td>6874</td>\n",
       "      <td>6874</td>\n",
       "      <td>6874</td>\n",
       "      <td>6874</td>\n",
       "      <td>6874</td>\n",
       "      <td>6874</td>\n",
       "      <td>6874</td>\n",
       "    </tr>\n",
       "    <tr>\n",
       "      <th>3</th>\n",
       "      <td>NaN</td>\n",
       "      <td>Andorra</td>\n",
       "      <td>42.50630</td>\n",
       "      <td>1.521800</td>\n",
       "      <td>0</td>\n",
       "      <td>0</td>\n",
       "      <td>0</td>\n",
       "      <td>0</td>\n",
       "      <td>0</td>\n",
       "      <td>0</td>\n",
       "      <td>...</td>\n",
       "      <td>153</td>\n",
       "      <td>153</td>\n",
       "      <td>153</td>\n",
       "      <td>153</td>\n",
       "      <td>153</td>\n",
       "      <td>153</td>\n",
       "      <td>153</td>\n",
       "      <td>153</td>\n",
       "      <td>153</td>\n",
       "      <td>153</td>\n",
       "    </tr>\n",
       "    <tr>\n",
       "      <th>4</th>\n",
       "      <td>NaN</td>\n",
       "      <td>Angola</td>\n",
       "      <td>-11.20270</td>\n",
       "      <td>17.873900</td>\n",
       "      <td>0</td>\n",
       "      <td>0</td>\n",
       "      <td>0</td>\n",
       "      <td>0</td>\n",
       "      <td>0</td>\n",
       "      <td>0</td>\n",
       "      <td>...</td>\n",
       "      <td>1900</td>\n",
       "      <td>1900</td>\n",
       "      <td>1900</td>\n",
       "      <td>1900</td>\n",
       "      <td>1900</td>\n",
       "      <td>1900</td>\n",
       "      <td>1900</td>\n",
       "      <td>1900</td>\n",
       "      <td>1900</td>\n",
       "      <td>1900</td>\n",
       "    </tr>\n",
       "  </tbody>\n",
       "</table>\n",
       "<p>5 rows × 808 columns</p>\n",
       "</div>"
      ],
      "text/plain": [
       "  Province/State Country/Region       Lat       Long  1/22/20  1/23/20  \\\n",
       "0            NaN    Afghanistan  33.93911  67.709953        0        0   \n",
       "1            NaN        Albania  41.15330  20.168300        0        0   \n",
       "2            NaN        Algeria  28.03390   1.659600        0        0   \n",
       "3            NaN        Andorra  42.50630   1.521800        0        0   \n",
       "4            NaN         Angola -11.20270  17.873900        0        0   \n",
       "\n",
       "   1/24/20  1/25/20  1/26/20  1/27/20  ...  3/26/22  3/27/22  3/28/22  \\\n",
       "0        0        0        0        0  ...     7657     7662     7663   \n",
       "1        0        0        0        0  ...     3491     3491     3491   \n",
       "2        0        0        0        0  ...     6873     6873     6873   \n",
       "3        0        0        0        0  ...      153      153      153   \n",
       "4        0        0        0        0  ...     1900     1900     1900   \n",
       "\n",
       "   3/29/22  3/30/22  3/31/22  4/1/22  4/2/22  4/3/22  4/4/22  \n",
       "0     7665     7667     7670    7670    7671    7671    7671  \n",
       "1     3492     3492     3492    3492    3492    3492    3492  \n",
       "2     6874     6874     6874    6874    6874    6874    6874  \n",
       "3      153      153      153     153     153     153     153  \n",
       "4     1900     1900     1900    1900    1900    1900    1900  \n",
       "\n",
       "[5 rows x 808 columns]"
      ]
     },
     "execution_count": 41,
     "metadata": {},
     "output_type": "execute_result"
    }
   ],
   "source": [
    "dg.head()"
   ]
  },
  {
   "cell_type": "code",
   "execution_count": 42,
   "id": "842302e8-dc5b-4818-85eb-7ca5c51e2765",
   "metadata": {
    "tags": []
   },
   "outputs": [
    {
     "name": "stdout",
     "output_type": "stream",
     "text": [
      "<class 'pandas.core.frame.DataFrame'>\n",
      "RangeIndex: 284 entries, 0 to 283\n",
      "Columns: 808 entries, Province/State to 4/4/22\n",
      "dtypes: float64(2), int64(804), object(2)\n",
      "memory usage: 1.8+ MB\n"
     ]
    }
   ],
   "source": [
    "cg.info()"
   ]
  },
  {
   "cell_type": "code",
   "execution_count": 43,
   "id": "2a8ddec7-f957-4efb-89af-cf3e03d98c5b",
   "metadata": {
    "tags": []
   },
   "outputs": [
    {
     "name": "stdout",
     "output_type": "stream",
     "text": [
      "<class 'pandas.core.frame.DataFrame'>\n",
      "RangeIndex: 269 entries, 0 to 268\n",
      "Columns: 808 entries, Province/State to 4/4/22\n",
      "dtypes: float64(2), int64(804), object(2)\n",
      "memory usage: 1.7+ MB\n"
     ]
    }
   ],
   "source": [
    "rg.info()"
   ]
  },
  {
   "cell_type": "code",
   "execution_count": 44,
   "id": "2369eec9-4c20-409a-8ede-fb589e518763",
   "metadata": {
    "tags": []
   },
   "outputs": [
    {
     "name": "stdout",
     "output_type": "stream",
     "text": [
      "<class 'pandas.core.frame.DataFrame'>\n",
      "RangeIndex: 284 entries, 0 to 283\n",
      "Columns: 808 entries, Province/State to 4/4/22\n",
      "dtypes: float64(2), int64(804), object(2)\n",
      "memory usage: 1.8+ MB\n"
     ]
    }
   ],
   "source": [
    "dg.info()"
   ]
  },
  {
   "cell_type": "code",
   "execution_count": 45,
   "id": "08290386-13ff-46d9-b28b-9c1f58b7c2ab",
   "metadata": {
    "tags": []
   },
   "outputs": [
    {
     "data": {
      "text/plain": [
       "(284, 808)"
      ]
     },
     "execution_count": 45,
     "metadata": {},
     "output_type": "execute_result"
    }
   ],
   "source": [
    "cg.shape"
   ]
  },
  {
   "cell_type": "code",
   "execution_count": 46,
   "id": "f6f6ef0c-3132-4848-b3de-1a45077aa1a3",
   "metadata": {},
   "outputs": [
    {
     "data": {
      "text/plain": [
       "(269, 808)"
      ]
     },
     "execution_count": 46,
     "metadata": {},
     "output_type": "execute_result"
    }
   ],
   "source": [
    "rg.shape"
   ]
  },
  {
   "cell_type": "code",
   "execution_count": 47,
   "id": "d6ebdf12-712e-4cfa-9e9b-460efdade907",
   "metadata": {},
   "outputs": [
    {
     "data": {
      "text/plain": [
       "(284, 808)"
      ]
     },
     "execution_count": 47,
     "metadata": {},
     "output_type": "execute_result"
    }
   ],
   "source": [
    "dg.shape"
   ]
  },
  {
   "cell_type": "code",
   "execution_count": 48,
   "id": "51386ea2-ee6c-45d5-823a-67d3bc3b3954",
   "metadata": {},
   "outputs": [
    {
     "data": {
      "text/plain": [
       "True"
      ]
     },
     "execution_count": 48,
     "metadata": {},
     "output_type": "execute_result"
    }
   ],
   "source": [
    "cg.isnull().values.any()"
   ]
  },
  {
   "cell_type": "code",
   "execution_count": 49,
   "id": "b8b65c6b-38e9-492e-ada5-63e4ac8ec12c",
   "metadata": {},
   "outputs": [
    {
     "data": {
      "text/plain": [
       "True"
      ]
     },
     "execution_count": 49,
     "metadata": {},
     "output_type": "execute_result"
    }
   ],
   "source": [
    "rg.isnull().values.any()"
   ]
  },
  {
   "cell_type": "code",
   "execution_count": 50,
   "id": "d76b8f66-0e22-4c8e-8d25-add83242fa88",
   "metadata": {},
   "outputs": [
    {
     "data": {
      "text/plain": [
       "True"
      ]
     },
     "execution_count": 50,
     "metadata": {},
     "output_type": "execute_result"
    }
   ],
   "source": [
    "dg.isnull().values.any()"
   ]
  },
  {
   "cell_type": "code",
   "execution_count": 51,
   "id": "ebf7db78-08b6-4525-a377-2cbfa5c5c130",
   "metadata": {
    "collapsed": true,
    "jupyter": {
     "outputs_hidden": true
    },
    "tags": []
   },
   "outputs": [
    {
     "data": {
      "text/plain": [
       "Province/State    195\n",
       "Country/Region      0\n",
       "Lat                 2\n",
       "Long                2\n",
       "1/22/20             0\n",
       "                 ... \n",
       "3/31/22             0\n",
       "4/1/22              0\n",
       "4/2/22              0\n",
       "4/3/22              0\n",
       "4/4/22              0\n",
       "Length: 808, dtype: int64"
      ]
     },
     "execution_count": 51,
     "metadata": {},
     "output_type": "execute_result"
    }
   ],
   "source": [
    "cg.isnull().sum()"
   ]
  },
  {
   "cell_type": "code",
   "execution_count": 52,
   "id": "38f0f745-44c4-4c65-806e-4711cd624d04",
   "metadata": {
    "collapsed": true,
    "jupyter": {
     "outputs_hidden": true
    },
    "tags": []
   },
   "outputs": [
    {
     "data": {
      "text/plain": [
       "Province/State    196\n",
       "Country/Region      0\n",
       "Lat                 1\n",
       "Long                1\n",
       "1/22/20             0\n",
       "                 ... \n",
       "3/31/22             0\n",
       "4/1/22              0\n",
       "4/2/22              0\n",
       "4/3/22              0\n",
       "4/4/22              0\n",
       "Length: 808, dtype: int64"
      ]
     },
     "execution_count": 52,
     "metadata": {},
     "output_type": "execute_result"
    }
   ],
   "source": [
    "rg.isnull().sum()"
   ]
  },
  {
   "cell_type": "code",
   "execution_count": 53,
   "id": "98efd6e6-8d70-4333-9495-4375d6f8ab29",
   "metadata": {
    "collapsed": true,
    "jupyter": {
     "outputs_hidden": true
    },
    "tags": []
   },
   "outputs": [
    {
     "data": {
      "text/plain": [
       "Province/State    195\n",
       "Country/Region      0\n",
       "Lat                 2\n",
       "Long                2\n",
       "1/22/20             0\n",
       "                 ... \n",
       "3/31/22             0\n",
       "4/1/22              0\n",
       "4/2/22              0\n",
       "4/3/22              0\n",
       "4/4/22              0\n",
       "Length: 808, dtype: int64"
      ]
     },
     "execution_count": 53,
     "metadata": {},
     "output_type": "execute_result"
    }
   ],
   "source": [
    "cg.isnull().sum()"
   ]
  },
  {
   "cell_type": "code",
   "execution_count": 54,
   "id": "9553e1de-79ee-4192-8cd4-0f18da540a6a",
   "metadata": {
    "collapsed": true,
    "jupyter": {
     "outputs_hidden": true
    },
    "tags": []
   },
   "outputs": [
    {
     "data": {
      "text/html": [
       "<div>\n",
       "<style scoped>\n",
       "    .dataframe tbody tr th:only-of-type {\n",
       "        vertical-align: middle;\n",
       "    }\n",
       "\n",
       "    .dataframe tbody tr th {\n",
       "        vertical-align: top;\n",
       "    }\n",
       "\n",
       "    .dataframe thead th {\n",
       "        text-align: right;\n",
       "    }\n",
       "</style>\n",
       "<table border=\"1\" class=\"dataframe\">\n",
       "  <thead>\n",
       "    <tr style=\"text-align: right;\">\n",
       "      <th></th>\n",
       "      <th>count</th>\n",
       "      <th>mean</th>\n",
       "      <th>std</th>\n",
       "      <th>min</th>\n",
       "      <th>25%</th>\n",
       "      <th>50%</th>\n",
       "      <th>75%</th>\n",
       "      <th>max</th>\n",
       "    </tr>\n",
       "  </thead>\n",
       "  <tbody>\n",
       "    <tr>\n",
       "      <th>Lat</th>\n",
       "      <td>282.0</td>\n",
       "      <td>2.010637e+01</td>\n",
       "      <td>2.584145e+01</td>\n",
       "      <td>-71.9499</td>\n",
       "      <td>4.643279</td>\n",
       "      <td>21.607878</td>\n",
       "      <td>40.950592</td>\n",
       "      <td>7.170690e+01</td>\n",
       "    </tr>\n",
       "    <tr>\n",
       "      <th>Long</th>\n",
       "      <td>282.0</td>\n",
       "      <td>2.195872e+01</td>\n",
       "      <td>7.589337e+01</td>\n",
       "      <td>-178.1165</td>\n",
       "      <td>-22.036550</td>\n",
       "      <td>20.921188</td>\n",
       "      <td>84.992575</td>\n",
       "      <td>1.780650e+02</td>\n",
       "    </tr>\n",
       "    <tr>\n",
       "      <th>1/22/20</th>\n",
       "      <td>284.0</td>\n",
       "      <td>1.961268e+00</td>\n",
       "      <td>2.640260e+01</td>\n",
       "      <td>0.0000</td>\n",
       "      <td>0.000000</td>\n",
       "      <td>0.000000</td>\n",
       "      <td>0.000000</td>\n",
       "      <td>4.440000e+02</td>\n",
       "    </tr>\n",
       "    <tr>\n",
       "      <th>1/23/20</th>\n",
       "      <td>284.0</td>\n",
       "      <td>2.313380e+00</td>\n",
       "      <td>2.649949e+01</td>\n",
       "      <td>0.0000</td>\n",
       "      <td>0.000000</td>\n",
       "      <td>0.000000</td>\n",
       "      <td>0.000000</td>\n",
       "      <td>4.440000e+02</td>\n",
       "    </tr>\n",
       "    <tr>\n",
       "      <th>1/24/20</th>\n",
       "      <td>284.0</td>\n",
       "      <td>3.323944e+00</td>\n",
       "      <td>3.299203e+01</td>\n",
       "      <td>0.0000</td>\n",
       "      <td>0.000000</td>\n",
       "      <td>0.000000</td>\n",
       "      <td>0.000000</td>\n",
       "      <td>5.490000e+02</td>\n",
       "    </tr>\n",
       "    <tr>\n",
       "      <th>...</th>\n",
       "      <td>...</td>\n",
       "      <td>...</td>\n",
       "      <td>...</td>\n",
       "      <td>...</td>\n",
       "      <td>...</td>\n",
       "      <td>...</td>\n",
       "      <td>...</td>\n",
       "      <td>...</td>\n",
       "    </tr>\n",
       "    <tr>\n",
       "      <th>3/31/22</th>\n",
       "      <td>284.0</td>\n",
       "      <td>1.719856e+06</td>\n",
       "      <td>6.423839e+06</td>\n",
       "      <td>0.0000</td>\n",
       "      <td>9727.750000</td>\n",
       "      <td>79380.000000</td>\n",
       "      <td>831289.750000</td>\n",
       "      <td>8.010206e+07</td>\n",
       "    </tr>\n",
       "    <tr>\n",
       "      <th>4/1/22</th>\n",
       "      <td>284.0</td>\n",
       "      <td>1.723979e+06</td>\n",
       "      <td>6.432014e+06</td>\n",
       "      <td>0.0000</td>\n",
       "      <td>9738.500000</td>\n",
       "      <td>80969.500000</td>\n",
       "      <td>832252.750000</td>\n",
       "      <td>8.014031e+07</td>\n",
       "    </tr>\n",
       "    <tr>\n",
       "      <th>4/2/22</th>\n",
       "      <td>284.0</td>\n",
       "      <td>1.727695e+06</td>\n",
       "      <td>6.439429e+06</td>\n",
       "      <td>0.0000</td>\n",
       "      <td>9750.500000</td>\n",
       "      <td>81375.000000</td>\n",
       "      <td>832900.750000</td>\n",
       "      <td>8.015081e+07</td>\n",
       "    </tr>\n",
       "    <tr>\n",
       "      <th>4/3/22</th>\n",
       "      <td>284.0</td>\n",
       "      <td>1.730433e+06</td>\n",
       "      <td>6.444486e+06</td>\n",
       "      <td>0.0000</td>\n",
       "      <td>9756.500000</td>\n",
       "      <td>81678.500000</td>\n",
       "      <td>833041.750000</td>\n",
       "      <td>8.015540e+07</td>\n",
       "    </tr>\n",
       "    <tr>\n",
       "      <th>4/4/22</th>\n",
       "      <td>284.0</td>\n",
       "      <td>1.738292e+06</td>\n",
       "      <td>6.507071e+06</td>\n",
       "      <td>0.0000</td>\n",
       "      <td>9756.500000</td>\n",
       "      <td>81973.500000</td>\n",
       "      <td>833203.750000</td>\n",
       "      <td>8.149564e+07</td>\n",
       "    </tr>\n",
       "  </tbody>\n",
       "</table>\n",
       "<p>806 rows × 8 columns</p>\n",
       "</div>"
      ],
      "text/plain": [
       "         count          mean           std       min          25%  \\\n",
       "Lat      282.0  2.010637e+01  2.584145e+01  -71.9499     4.643279   \n",
       "Long     282.0  2.195872e+01  7.589337e+01 -178.1165   -22.036550   \n",
       "1/22/20  284.0  1.961268e+00  2.640260e+01    0.0000     0.000000   \n",
       "1/23/20  284.0  2.313380e+00  2.649949e+01    0.0000     0.000000   \n",
       "1/24/20  284.0  3.323944e+00  3.299203e+01    0.0000     0.000000   \n",
       "...        ...           ...           ...       ...          ...   \n",
       "3/31/22  284.0  1.719856e+06  6.423839e+06    0.0000  9727.750000   \n",
       "4/1/22   284.0  1.723979e+06  6.432014e+06    0.0000  9738.500000   \n",
       "4/2/22   284.0  1.727695e+06  6.439429e+06    0.0000  9750.500000   \n",
       "4/3/22   284.0  1.730433e+06  6.444486e+06    0.0000  9756.500000   \n",
       "4/4/22   284.0  1.738292e+06  6.507071e+06    0.0000  9756.500000   \n",
       "\n",
       "                  50%            75%           max  \n",
       "Lat         21.607878      40.950592  7.170690e+01  \n",
       "Long        20.921188      84.992575  1.780650e+02  \n",
       "1/22/20      0.000000       0.000000  4.440000e+02  \n",
       "1/23/20      0.000000       0.000000  4.440000e+02  \n",
       "1/24/20      0.000000       0.000000  5.490000e+02  \n",
       "...               ...            ...           ...  \n",
       "3/31/22  79380.000000  831289.750000  8.010206e+07  \n",
       "4/1/22   80969.500000  832252.750000  8.014031e+07  \n",
       "4/2/22   81375.000000  832900.750000  8.015081e+07  \n",
       "4/3/22   81678.500000  833041.750000  8.015540e+07  \n",
       "4/4/22   81973.500000  833203.750000  8.149564e+07  \n",
       "\n",
       "[806 rows x 8 columns]"
      ]
     },
     "execution_count": 54,
     "metadata": {},
     "output_type": "execute_result"
    }
   ],
   "source": [
    "cg.describe().T"
   ]
  },
  {
   "cell_type": "code",
   "execution_count": 55,
   "id": "ede8dee2-6e10-444d-9468-d6eea976a3bc",
   "metadata": {
    "collapsed": true,
    "jupyter": {
     "outputs_hidden": true
    },
    "tags": []
   },
   "outputs": [
    {
     "data": {
      "text/html": [
       "<div>\n",
       "<style scoped>\n",
       "    .dataframe tbody tr th:only-of-type {\n",
       "        vertical-align: middle;\n",
       "    }\n",
       "\n",
       "    .dataframe tbody tr th {\n",
       "        vertical-align: top;\n",
       "    }\n",
       "\n",
       "    .dataframe thead th {\n",
       "        text-align: right;\n",
       "    }\n",
       "</style>\n",
       "<table border=\"1\" class=\"dataframe\">\n",
       "  <thead>\n",
       "    <tr style=\"text-align: right;\">\n",
       "      <th></th>\n",
       "      <th>count</th>\n",
       "      <th>mean</th>\n",
       "      <th>std</th>\n",
       "      <th>min</th>\n",
       "      <th>25%</th>\n",
       "      <th>50%</th>\n",
       "      <th>75%</th>\n",
       "      <th>max</th>\n",
       "    </tr>\n",
       "  </thead>\n",
       "  <tbody>\n",
       "    <tr>\n",
       "      <th>Lat</th>\n",
       "      <td>268.0</td>\n",
       "      <td>18.700014</td>\n",
       "      <td>25.330841</td>\n",
       "      <td>-71.9499</td>\n",
       "      <td>4.454096</td>\n",
       "      <td>19.584785</td>\n",
       "      <td>39.1320</td>\n",
       "      <td>71.7069</td>\n",
       "    </tr>\n",
       "    <tr>\n",
       "      <th>Long</th>\n",
       "      <td>268.0</td>\n",
       "      <td>27.186914</td>\n",
       "      <td>73.614830</td>\n",
       "      <td>-178.1165</td>\n",
       "      <td>-9.496274</td>\n",
       "      <td>23.614150</td>\n",
       "      <td>91.8142</td>\n",
       "      <td>178.0650</td>\n",
       "    </tr>\n",
       "    <tr>\n",
       "      <th>1/22/20</th>\n",
       "      <td>269.0</td>\n",
       "      <td>0.111524</td>\n",
       "      <td>1.711086</td>\n",
       "      <td>0.0000</td>\n",
       "      <td>0.000000</td>\n",
       "      <td>0.000000</td>\n",
       "      <td>0.0000</td>\n",
       "      <td>28.0000</td>\n",
       "    </tr>\n",
       "    <tr>\n",
       "      <th>1/23/20</th>\n",
       "      <td>269.0</td>\n",
       "      <td>0.118959</td>\n",
       "      <td>1.714940</td>\n",
       "      <td>0.0000</td>\n",
       "      <td>0.000000</td>\n",
       "      <td>0.000000</td>\n",
       "      <td>0.0000</td>\n",
       "      <td>28.0000</td>\n",
       "    </tr>\n",
       "    <tr>\n",
       "      <th>1/24/20</th>\n",
       "      <td>269.0</td>\n",
       "      <td>0.144981</td>\n",
       "      <td>1.903792</td>\n",
       "      <td>0.0000</td>\n",
       "      <td>0.000000</td>\n",
       "      <td>0.000000</td>\n",
       "      <td>0.0000</td>\n",
       "      <td>31.0000</td>\n",
       "    </tr>\n",
       "    <tr>\n",
       "      <th>...</th>\n",
       "      <td>...</td>\n",
       "      <td>...</td>\n",
       "      <td>...</td>\n",
       "      <td>...</td>\n",
       "      <td>...</td>\n",
       "      <td>...</td>\n",
       "      <td>...</td>\n",
       "      <td>...</td>\n",
       "    </tr>\n",
       "    <tr>\n",
       "      <th>3/31/22</th>\n",
       "      <td>269.0</td>\n",
       "      <td>0.000000</td>\n",
       "      <td>0.000000</td>\n",
       "      <td>0.0000</td>\n",
       "      <td>0.000000</td>\n",
       "      <td>0.000000</td>\n",
       "      <td>0.0000</td>\n",
       "      <td>0.0000</td>\n",
       "    </tr>\n",
       "    <tr>\n",
       "      <th>4/1/22</th>\n",
       "      <td>269.0</td>\n",
       "      <td>0.000000</td>\n",
       "      <td>0.000000</td>\n",
       "      <td>0.0000</td>\n",
       "      <td>0.000000</td>\n",
       "      <td>0.000000</td>\n",
       "      <td>0.0000</td>\n",
       "      <td>0.0000</td>\n",
       "    </tr>\n",
       "    <tr>\n",
       "      <th>4/2/22</th>\n",
       "      <td>269.0</td>\n",
       "      <td>0.000000</td>\n",
       "      <td>0.000000</td>\n",
       "      <td>0.0000</td>\n",
       "      <td>0.000000</td>\n",
       "      <td>0.000000</td>\n",
       "      <td>0.0000</td>\n",
       "      <td>0.0000</td>\n",
       "    </tr>\n",
       "    <tr>\n",
       "      <th>4/3/22</th>\n",
       "      <td>269.0</td>\n",
       "      <td>0.000000</td>\n",
       "      <td>0.000000</td>\n",
       "      <td>0.0000</td>\n",
       "      <td>0.000000</td>\n",
       "      <td>0.000000</td>\n",
       "      <td>0.0000</td>\n",
       "      <td>0.0000</td>\n",
       "    </tr>\n",
       "    <tr>\n",
       "      <th>4/4/22</th>\n",
       "      <td>269.0</td>\n",
       "      <td>0.000000</td>\n",
       "      <td>0.000000</td>\n",
       "      <td>0.0000</td>\n",
       "      <td>0.000000</td>\n",
       "      <td>0.000000</td>\n",
       "      <td>0.0000</td>\n",
       "      <td>0.0000</td>\n",
       "    </tr>\n",
       "  </tbody>\n",
       "</table>\n",
       "<p>806 rows × 8 columns</p>\n",
       "</div>"
      ],
      "text/plain": [
       "         count       mean        std       min       25%        50%      75%  \\\n",
       "Lat      268.0  18.700014  25.330841  -71.9499  4.454096  19.584785  39.1320   \n",
       "Long     268.0  27.186914  73.614830 -178.1165 -9.496274  23.614150  91.8142   \n",
       "1/22/20  269.0   0.111524   1.711086    0.0000  0.000000   0.000000   0.0000   \n",
       "1/23/20  269.0   0.118959   1.714940    0.0000  0.000000   0.000000   0.0000   \n",
       "1/24/20  269.0   0.144981   1.903792    0.0000  0.000000   0.000000   0.0000   \n",
       "...        ...        ...        ...       ...       ...        ...      ...   \n",
       "3/31/22  269.0   0.000000   0.000000    0.0000  0.000000   0.000000   0.0000   \n",
       "4/1/22   269.0   0.000000   0.000000    0.0000  0.000000   0.000000   0.0000   \n",
       "4/2/22   269.0   0.000000   0.000000    0.0000  0.000000   0.000000   0.0000   \n",
       "4/3/22   269.0   0.000000   0.000000    0.0000  0.000000   0.000000   0.0000   \n",
       "4/4/22   269.0   0.000000   0.000000    0.0000  0.000000   0.000000   0.0000   \n",
       "\n",
       "              max  \n",
       "Lat       71.7069  \n",
       "Long     178.0650  \n",
       "1/22/20   28.0000  \n",
       "1/23/20   28.0000  \n",
       "1/24/20   31.0000  \n",
       "...           ...  \n",
       "3/31/22    0.0000  \n",
       "4/1/22     0.0000  \n",
       "4/2/22     0.0000  \n",
       "4/3/22     0.0000  \n",
       "4/4/22     0.0000  \n",
       "\n",
       "[806 rows x 8 columns]"
      ]
     },
     "execution_count": 55,
     "metadata": {},
     "output_type": "execute_result"
    }
   ],
   "source": [
    "rg.describe().T"
   ]
  },
  {
   "cell_type": "code",
   "execution_count": 56,
   "id": "6b16e6ba-1a63-4b97-9aa1-099618a07222",
   "metadata": {
    "collapsed": true,
    "jupyter": {
     "outputs_hidden": true
    },
    "tags": []
   },
   "outputs": [
    {
     "data": {
      "text/html": [
       "<div>\n",
       "<style scoped>\n",
       "    .dataframe tbody tr th:only-of-type {\n",
       "        vertical-align: middle;\n",
       "    }\n",
       "\n",
       "    .dataframe tbody tr th {\n",
       "        vertical-align: top;\n",
       "    }\n",
       "\n",
       "    .dataframe thead th {\n",
       "        text-align: right;\n",
       "    }\n",
       "</style>\n",
       "<table border=\"1\" class=\"dataframe\">\n",
       "  <thead>\n",
       "    <tr style=\"text-align: right;\">\n",
       "      <th></th>\n",
       "      <th>count</th>\n",
       "      <th>mean</th>\n",
       "      <th>std</th>\n",
       "      <th>min</th>\n",
       "      <th>25%</th>\n",
       "      <th>50%</th>\n",
       "      <th>75%</th>\n",
       "      <th>max</th>\n",
       "    </tr>\n",
       "  </thead>\n",
       "  <tbody>\n",
       "    <tr>\n",
       "      <th>Lat</th>\n",
       "      <td>282.0</td>\n",
       "      <td>20.106368</td>\n",
       "      <td>25.841453</td>\n",
       "      <td>-71.9499</td>\n",
       "      <td>4.643279</td>\n",
       "      <td>21.607878</td>\n",
       "      <td>40.950592</td>\n",
       "      <td>71.7069</td>\n",
       "    </tr>\n",
       "    <tr>\n",
       "      <th>Long</th>\n",
       "      <td>282.0</td>\n",
       "      <td>21.958718</td>\n",
       "      <td>75.893366</td>\n",
       "      <td>-178.1165</td>\n",
       "      <td>-22.036550</td>\n",
       "      <td>20.921188</td>\n",
       "      <td>84.992575</td>\n",
       "      <td>178.0650</td>\n",
       "    </tr>\n",
       "    <tr>\n",
       "      <th>1/22/20</th>\n",
       "      <td>284.0</td>\n",
       "      <td>0.059859</td>\n",
       "      <td>1.008764</td>\n",
       "      <td>0.0000</td>\n",
       "      <td>0.000000</td>\n",
       "      <td>0.000000</td>\n",
       "      <td>0.000000</td>\n",
       "      <td>17.0000</td>\n",
       "    </tr>\n",
       "    <tr>\n",
       "      <th>1/23/20</th>\n",
       "      <td>284.0</td>\n",
       "      <td>0.063380</td>\n",
       "      <td>1.010299</td>\n",
       "      <td>0.0000</td>\n",
       "      <td>0.000000</td>\n",
       "      <td>0.000000</td>\n",
       "      <td>0.000000</td>\n",
       "      <td>17.0000</td>\n",
       "    </tr>\n",
       "    <tr>\n",
       "      <th>1/24/20</th>\n",
       "      <td>284.0</td>\n",
       "      <td>0.091549</td>\n",
       "      <td>1.426181</td>\n",
       "      <td>0.0000</td>\n",
       "      <td>0.000000</td>\n",
       "      <td>0.000000</td>\n",
       "      <td>0.000000</td>\n",
       "      <td>24.0000</td>\n",
       "    </tr>\n",
       "    <tr>\n",
       "      <th>...</th>\n",
       "      <td>...</td>\n",
       "      <td>...</td>\n",
       "      <td>...</td>\n",
       "      <td>...</td>\n",
       "      <td>...</td>\n",
       "      <td>...</td>\n",
       "      <td>...</td>\n",
       "      <td>...</td>\n",
       "    </tr>\n",
       "    <tr>\n",
       "      <th>3/31/22</th>\n",
       "      <td>284.0</td>\n",
       "      <td>21630.799296</td>\n",
       "      <td>85653.235226</td>\n",
       "      <td>0.0000</td>\n",
       "      <td>41.000000</td>\n",
       "      <td>816.500000</td>\n",
       "      <td>7911.250000</td>\n",
       "      <td>980638.0000</td>\n",
       "    </tr>\n",
       "    <tr>\n",
       "      <th>4/1/22</th>\n",
       "      <td>284.0</td>\n",
       "      <td>21649.978873</td>\n",
       "      <td>85740.958026</td>\n",
       "      <td>0.0000</td>\n",
       "      <td>41.000000</td>\n",
       "      <td>816.500000</td>\n",
       "      <td>8001.250000</td>\n",
       "      <td>982371.0000</td>\n",
       "    </tr>\n",
       "    <tr>\n",
       "      <th>4/2/22</th>\n",
       "      <td>284.0</td>\n",
       "      <td>21659.348592</td>\n",
       "      <td>85761.013277</td>\n",
       "      <td>0.0000</td>\n",
       "      <td>41.000000</td>\n",
       "      <td>816.500000</td>\n",
       "      <td>8088.250000</td>\n",
       "      <td>982533.0000</td>\n",
       "    </tr>\n",
       "    <tr>\n",
       "      <th>4/3/22</th>\n",
       "      <td>284.0</td>\n",
       "      <td>21665.133803</td>\n",
       "      <td>85769.689335</td>\n",
       "      <td>0.0000</td>\n",
       "      <td>41.000000</td>\n",
       "      <td>816.500000</td>\n",
       "      <td>8170.500000</td>\n",
       "      <td>982565.0000</td>\n",
       "    </tr>\n",
       "    <tr>\n",
       "      <th>4/4/22</th>\n",
       "      <td>284.0</td>\n",
       "      <td>21725.109155</td>\n",
       "      <td>86361.318692</td>\n",
       "      <td>0.0000</td>\n",
       "      <td>41.750000</td>\n",
       "      <td>816.500000</td>\n",
       "      <td>8194.500000</td>\n",
       "      <td>997127.0000</td>\n",
       "    </tr>\n",
       "  </tbody>\n",
       "</table>\n",
       "<p>806 rows × 8 columns</p>\n",
       "</div>"
      ],
      "text/plain": [
       "         count          mean           std       min        25%         50%  \\\n",
       "Lat      282.0     20.106368     25.841453  -71.9499   4.643279   21.607878   \n",
       "Long     282.0     21.958718     75.893366 -178.1165 -22.036550   20.921188   \n",
       "1/22/20  284.0      0.059859      1.008764    0.0000   0.000000    0.000000   \n",
       "1/23/20  284.0      0.063380      1.010299    0.0000   0.000000    0.000000   \n",
       "1/24/20  284.0      0.091549      1.426181    0.0000   0.000000    0.000000   \n",
       "...        ...           ...           ...       ...        ...         ...   \n",
       "3/31/22  284.0  21630.799296  85653.235226    0.0000  41.000000  816.500000   \n",
       "4/1/22   284.0  21649.978873  85740.958026    0.0000  41.000000  816.500000   \n",
       "4/2/22   284.0  21659.348592  85761.013277    0.0000  41.000000  816.500000   \n",
       "4/3/22   284.0  21665.133803  85769.689335    0.0000  41.000000  816.500000   \n",
       "4/4/22   284.0  21725.109155  86361.318692    0.0000  41.750000  816.500000   \n",
       "\n",
       "                 75%          max  \n",
       "Lat        40.950592      71.7069  \n",
       "Long       84.992575     178.0650  \n",
       "1/22/20     0.000000      17.0000  \n",
       "1/23/20     0.000000      17.0000  \n",
       "1/24/20     0.000000      24.0000  \n",
       "...              ...          ...  \n",
       "3/31/22  7911.250000  980638.0000  \n",
       "4/1/22   8001.250000  982371.0000  \n",
       "4/2/22   8088.250000  982533.0000  \n",
       "4/3/22   8170.500000  982565.0000  \n",
       "4/4/22   8194.500000  997127.0000  \n",
       "\n",
       "[806 rows x 8 columns]"
      ]
     },
     "execution_count": 56,
     "metadata": {},
     "output_type": "execute_result"
    }
   ],
   "source": [
    "dg.describe().T"
   ]
  },
  {
   "cell_type": "markdown",
   "id": "93b9583a-9831-4cdc-b081-cf9dacd0fe51",
   "metadata": {},
   "source": [
    "Bu üç datasetdə hər birinə uyğun olaraq Covid-19 xəstəliyindən qeydə alınmış xəstələrin, ölənlərin və sağalanların\n",
    "xəstəliyin başından indiki vaxta qədər ölkələr uzrə cədvəl verilib. Bu cədvəllərdə ölkə üzrə həmin gün o günə kimi \n",
    "bütün qeydə alınmış xəstələrin, ölənlərin və sağalanların sayı verilir.Cədvəllərdəki Lat və Long ölkənin kordinatlarını \n",
    "göstərir."
   ]
  },
  {
   "cell_type": "code",
   "execution_count": 57,
   "id": "a7655514-fa98-4018-a985-401c91925936",
   "metadata": {},
   "outputs": [],
   "source": [
    "dg.drop([\"Province/State\",\"Lat\",\"Long\"],axis=1,inplace=True)\n",
    "cg.drop([\"Province/State\",\"Lat\",\"Long\"],axis=1,inplace=True)\n",
    "rg.drop([\"Province/State\",\"Lat\",\"Long\"],axis=1,inplace=True)"
   ]
  },
  {
   "cell_type": "code",
   "execution_count": 107,
   "id": "9f8c79c0-3d88-42d6-ab69-722f7663e9a0",
   "metadata": {},
   "outputs": [],
   "source": [
    "cgg=cg.select_dtypes(include=\"int64\")\n",
    "dgg=dg.select_dtypes(include=\"int64\")\n",
    "rgg=rg.select_dtypes(include=\"int64\")"
   ]
  },
  {
   "cell_type": "code",
   "execution_count": 59,
   "id": "0ac3a8a1-f4bc-41f1-b7d6-063953f7be08",
   "metadata": {},
   "outputs": [],
   "source": [
    "for i in cgg.columns:\n",
    "    if cgg[i].sum()==0:\n",
    "        del cg[i]"
   ]
  },
  {
   "cell_type": "code",
   "execution_count": 60,
   "id": "a54e6620-84cf-48f6-872d-4ec2250282d1",
   "metadata": {},
   "outputs": [],
   "source": [
    "for i in dgg.columns:\n",
    "    if dgg[i].sum()==0:\n",
    "        del dg[i]"
   ]
  },
  {
   "cell_type": "code",
   "execution_count": 61,
   "id": "d2b81dcb-d1fe-4bb1-acfc-90c5615ffe69",
   "metadata": {},
   "outputs": [],
   "source": [
    "for i in rgg.columns:\n",
    "    if rgg[i].sum()==0:\n",
    "        del rg[i]"
   ]
  },
  {
   "cell_type": "code",
   "execution_count": 86,
   "id": "aa4328d1-2c52-44fe-b860-d816bae34b9d",
   "metadata": {
    "tags": []
   },
   "outputs": [],
   "source": [
    "def same_country_sum(ls):\n",
    "    for i in ls.index:\n",
    "        if ls.loc[i,\"Country/Region\"]==\"Afghanistan\":\n",
    "            y=ls.loc[i,\"Country/Region\"]\n",
    "        else: \n",
    "            x=ls.loc[i,\"Country/Region\"]\n",
    "            if x==y:\n",
    "                ls.loc[i]=ls.loc[i]+ls.loc[i-1]\n",
    "                ls.drop([i-1],axis=0,inplace=True)\n",
    "                ls.loc[i,\"Country/Region\"] = y\n",
    "                y=x\n",
    "            else:\n",
    "                y=x"
   ]
  },
  {
   "cell_type": "code",
   "execution_count": 87,
   "id": "7fd1b36a-d7e6-4d29-ad76-025067a57cb9",
   "metadata": {
    "tags": []
   },
   "outputs": [],
   "source": [
    "same_country_sum(cg)"
   ]
  },
  {
   "cell_type": "code",
   "execution_count": 91,
   "id": "7afb41d2-f233-41c0-97af-d6d61495a23d",
   "metadata": {},
   "outputs": [],
   "source": [
    "same_country_sum(rg)"
   ]
  },
  {
   "cell_type": "code",
   "execution_count": 94,
   "id": "a0e88181-9795-4fda-a549-6bd9e02c4937",
   "metadata": {},
   "outputs": [],
   "source": [
    "same_country_sum(dg)"
   ]
  },
  {
   "cell_type": "code",
   "execution_count": 105,
   "id": "cbdc06f7-4107-4021-9fe2-7be370bdc139",
   "metadata": {},
   "outputs": [],
   "source": [
    "cg.index=np.arange(1,198.1,dtype=int)\n",
    "dg.index=np.arange(1,198.1,dtype=int)\n",
    "rg.index=np.arange(1,198.1,dtype=int)"
   ]
  },
  {
   "cell_type": "code",
   "execution_count": 115,
   "id": "36a939be-ea8f-46fe-896d-d6f5599e1f2c",
   "metadata": {},
   "outputs": [],
   "source": [
    "cg.sort_values(by=[\"4/4/22\"],inplace=True, ascending=False,ignore_index = True)\n",
    "rg.sort_values(by=[\"8/4/21\"],inplace=True, ascending=False,ignore_index = True)\n",
    "dg.sort_values(by=[\"4/4/22\"],inplace=True, ascending=False,ignore_index = True)"
   ]
  },
  {
   "cell_type": "code",
   "execution_count": 127,
   "id": "c1552fed-997f-4464-a821-ca97715b0dbb",
   "metadata": {
    "tags": []
   },
   "outputs": [
    {
     "data": {
      "text/plain": [
       "(198, 562)"
      ]
     },
     "execution_count": 127,
     "metadata": {},
     "output_type": "execute_result"
    }
   ],
   "source": [
    "rg.shape"
   ]
  },
  {
   "cell_type": "code",
   "execution_count": 128,
   "id": "21445124-4d71-4be6-9935-b98f42e1cb70",
   "metadata": {
    "tags": []
   },
   "outputs": [],
   "source": [
    "cg_son=cg.iloc[[0,1,2,3,4,5,6,7,8,9],[0,798,799,800,801,802,803,804]].copy()\n",
    "dg_son=dg.iloc[[0,1,2,3,4,5,6,7,8,9],[0,798,799,800,801,802,803,804]].copy()\n",
    "rg_son=rg.iloc[[0,1,2,3,4,5,6,7,8,9],[0,555,556,557,558,559,560,561]].copy()"
   ]
  },
  {
   "cell_type": "code",
   "execution_count": 131,
   "id": "455cdc59-c82a-47ac-9f7c-471c6f42d7fa",
   "metadata": {},
   "outputs": [],
   "source": [
    "cg_son1=cg.iloc[[0,1,2,3,4,5,6,7,8,9],[0,797,798,799,800,801,802,803,804]].copy()\n",
    "cg_son1=cg_son1.select_dtypes(include=\"int64\")\n",
    "dg_son1=dg.iloc[[0,1,2,3,4,5,6,7,8,9],[0,797,798,799,800,801,802,803,804]].copy()\n",
    "dg_son1=dg_son1.select_dtypes(include=\"int64\")\n",
    "rg_son1=rg.iloc[[0,1,2,3,4,5,6,7,8,9],[0,554,555,556,557,558,559,560,561]].copy()\n",
    "rg_son1=rg_son1.select_dtypes(include=\"int64\")"
   ]
  },
  {
   "cell_type": "code",
   "execution_count": 133,
   "id": "20057c81-a95d-458a-b18f-e31087806ba3",
   "metadata": {},
   "outputs": [],
   "source": [
    "def count_daily(li,lk):\n",
    "    for i in lk.index:\n",
    "        for j in lk.columns:\n",
    "            if j in li.columns:\n",
    "                li.loc[i,j]=lk.loc[i,j]-t\n",
    "                t=lk.loc[i,j]\n",
    "            else:\n",
    "                t=lk.loc[i,j]"
   ]
  },
  {
   "cell_type": "code",
   "execution_count": 134,
   "id": "bcadedac-518b-4355-b017-694cd948aa6f",
   "metadata": {},
   "outputs": [],
   "source": [
    "count_daily(cg_son,cg_son1)"
   ]
  },
  {
   "cell_type": "code",
   "execution_count": 135,
   "id": "e4b508f5-fa98-46b9-84a2-99cc61c4bdad",
   "metadata": {},
   "outputs": [],
   "source": [
    "count_daily(rg_son,rg_son1)"
   ]
  },
  {
   "cell_type": "code",
   "execution_count": 136,
   "id": "c2e48a5f-8ca0-495f-8e37-f6312694df56",
   "metadata": {},
   "outputs": [],
   "source": [
    "count_daily(dg_son,dg_son1)"
   ]
  },
  {
   "cell_type": "code",
   "execution_count": 140,
   "id": "ce5acca8-86ba-4d86-9300-444522f3ac70",
   "metadata": {
    "tags": []
   },
   "outputs": [
    {
     "data": {
      "text/html": [
       "<div>\n",
       "<style scoped>\n",
       "    .dataframe tbody tr th:only-of-type {\n",
       "        vertical-align: middle;\n",
       "    }\n",
       "\n",
       "    .dataframe tbody tr th {\n",
       "        vertical-align: top;\n",
       "    }\n",
       "\n",
       "    .dataframe thead th {\n",
       "        text-align: right;\n",
       "    }\n",
       "</style>\n",
       "<table border=\"1\" class=\"dataframe\">\n",
       "  <thead>\n",
       "    <tr style=\"text-align: right;\">\n",
       "      <th></th>\n",
       "      <th>Country/Region</th>\n",
       "      <th>7/29/21</th>\n",
       "      <th>7/30/21</th>\n",
       "      <th>7/31/21</th>\n",
       "      <th>8/1/21</th>\n",
       "      <th>8/2/21</th>\n",
       "      <th>8/3/21</th>\n",
       "      <th>8/4/21</th>\n",
       "    </tr>\n",
       "  </thead>\n",
       "  <tbody>\n",
       "    <tr>\n",
       "      <th>0</th>\n",
       "      <td>India</td>\n",
       "      <td>42360</td>\n",
       "      <td>37291</td>\n",
       "      <td>39258</td>\n",
       "      <td>36946</td>\n",
       "      <td>38887</td>\n",
       "      <td>36668</td>\n",
       "      <td>41726</td>\n",
       "    </tr>\n",
       "    <tr>\n",
       "      <th>1</th>\n",
       "      <td>Brazil</td>\n",
       "      <td>28696</td>\n",
       "      <td>0</td>\n",
       "      <td>0</td>\n",
       "      <td>0</td>\n",
       "      <td>0</td>\n",
       "      <td>0</td>\n",
       "      <td>0</td>\n",
       "    </tr>\n",
       "    <tr>\n",
       "      <th>2</th>\n",
       "      <td>Russia</td>\n",
       "      <td>20259</td>\n",
       "      <td>19989</td>\n",
       "      <td>19389</td>\n",
       "      <td>17044</td>\n",
       "      <td>14701</td>\n",
       "      <td>18605</td>\n",
       "      <td>19545</td>\n",
       "    </tr>\n",
       "    <tr>\n",
       "      <th>3</th>\n",
       "      <td>Turkey</td>\n",
       "      <td>5463</td>\n",
       "      <td>5752</td>\n",
       "      <td>5107</td>\n",
       "      <td>5539</td>\n",
       "      <td>5947</td>\n",
       "      <td>6243</td>\n",
       "      <td>6096</td>\n",
       "    </tr>\n",
       "    <tr>\n",
       "      <th>4</th>\n",
       "      <td>Argentina</td>\n",
       "      <td>13645</td>\n",
       "      <td>14133</td>\n",
       "      <td>12515</td>\n",
       "      <td>11580</td>\n",
       "      <td>13741</td>\n",
       "      <td>11153</td>\n",
       "      <td>9808</td>\n",
       "    </tr>\n",
       "    <tr>\n",
       "      <th>5</th>\n",
       "      <td>Colombia</td>\n",
       "      <td>12483</td>\n",
       "      <td>9872</td>\n",
       "      <td>10818</td>\n",
       "      <td>9235</td>\n",
       "      <td>10422</td>\n",
       "      <td>7963</td>\n",
       "      <td>9215</td>\n",
       "    </tr>\n",
       "    <tr>\n",
       "      <th>6</th>\n",
       "      <td>Italy</td>\n",
       "      <td>1825</td>\n",
       "      <td>2117</td>\n",
       "      <td>2170</td>\n",
       "      <td>1250</td>\n",
       "      <td>1498</td>\n",
       "      <td>3615</td>\n",
       "      <td>3565</td>\n",
       "    </tr>\n",
       "    <tr>\n",
       "      <th>7</th>\n",
       "      <td>Germany</td>\n",
       "      <td>-4320</td>\n",
       "      <td>2730</td>\n",
       "      <td>750</td>\n",
       "      <td>1570</td>\n",
       "      <td>230</td>\n",
       "      <td>3200</td>\n",
       "      <td>1110</td>\n",
       "    </tr>\n",
       "    <tr>\n",
       "      <th>8</th>\n",
       "      <td>Iran</td>\n",
       "      <td>18902</td>\n",
       "      <td>19298</td>\n",
       "      <td>18909</td>\n",
       "      <td>17923</td>\n",
       "      <td>19338</td>\n",
       "      <td>20117</td>\n",
       "      <td>20148</td>\n",
       "    </tr>\n",
       "    <tr>\n",
       "      <th>9</th>\n",
       "      <td>Indonesia</td>\n",
       "      <td>45494</td>\n",
       "      <td>44550</td>\n",
       "      <td>39372</td>\n",
       "      <td>39446</td>\n",
       "      <td>32807</td>\n",
       "      <td>31324</td>\n",
       "      <td>34251</td>\n",
       "    </tr>\n",
       "  </tbody>\n",
       "</table>\n",
       "</div>"
      ],
      "text/plain": [
       "  Country/Region  7/29/21  7/30/21  7/31/21  8/1/21  8/2/21  8/3/21  8/4/21\n",
       "0          India    42360    37291    39258   36946   38887   36668   41726\n",
       "1         Brazil    28696        0        0       0       0       0       0\n",
       "2         Russia    20259    19989    19389   17044   14701   18605   19545\n",
       "3         Turkey     5463     5752     5107    5539    5947    6243    6096\n",
       "4      Argentina    13645    14133    12515   11580   13741   11153    9808\n",
       "5       Colombia    12483     9872    10818    9235   10422    7963    9215\n",
       "6          Italy     1825     2117     2170    1250    1498    3615    3565\n",
       "7        Germany    -4320     2730      750    1570     230    3200    1110\n",
       "8           Iran    18902    19298    18909   17923   19338   20117   20148\n",
       "9      Indonesia    45494    44550    39372   39446   32807   31324   34251"
      ]
     },
     "execution_count": 140,
     "metadata": {},
     "output_type": "execute_result"
    }
   ],
   "source": [
    "rg_son"
   ]
  },
  {
   "cell_type": "code",
   "execution_count": 145,
   "id": "a05f2909-488f-4912-8f4e-8604e4700d28",
   "metadata": {},
   "outputs": [
    {
     "data": {
      "text/plain": [
       "<AxesSubplot:>"
      ]
     },
     "execution_count": 145,
     "metadata": {},
     "output_type": "execute_result"
    },
    {
     "data": {
      "image/png": "[encoded data removed]",
      "text/plain": [
       "<Figure size 432x288 with 1 Axes>"
      ]
     },
     "metadata": {
      "needs_background": "light"
     },
     "output_type": "display_data"
    }
   ],
   "source": [
    "sns.barplot(data=cg_son)"
   ]
  },
  {
   "cell_type": "code",
   "execution_count": 146,
   "id": "bc3e4bcd-2e80-47b8-ace5-65eff5d80d0f",
   "metadata": {},
   "outputs": [
    {
     "data": {
      "text/plain": [
       "<AxesSubplot:>"
      ]
     },
     "execution_count": 146,
     "metadata": {},
     "output_type": "execute_result"
    },
    {
     "data": {
      "image/png": "[encoded data removed]",
      "text/plain": [
       "<Figure size 432x288 with 1 Axes>"
      ]
     },
     "metadata": {
      "needs_background": "light"
     },
     "output_type": "display_data"
    }
   ],
   "source": [
    "sns.barplot(data=dg_son)"
   ]
  },
  {
   "cell_type": "code",
   "execution_count": 158,
   "id": "6413389f-136f-4e8b-9e8f-f954237868ec",
   "metadata": {},
   "outputs": [
    {
     "data": {
      "text/plain": [
       "<AxesSubplot:>"
      ]
     },
     "execution_count": 228,
     "metadata": {},
     "output_type": "execute_result"
    },
    {
     "data": {
      "image/png": "[encoded data removed]",
      "text/plain": [
       "<Figure size 432x288 with 1 Axes>"
      ]
     },
     "metadata": {
      "needs_background": "light"
     },
     "output_type": "display_data"
    }
   ],
   "source": [
    "sns.barplot(data=rg_son)"
   ]
  },
  {
   "cell_type": "code",
   "execution_count": 292,
   "id": "eef80040-5c45-459d-a048-4e8d18f6b41a",
   "metadata": {
    "tags": []
   },
   "outputs": [
    {
     "data": {
      "text/plain": [
       "<seaborn.axisgrid.FacetGrid at 0x1c64d733340>"
      ]
     },
     "execution_count": 292,
     "metadata": {},
     "output_type": "execute_result"
    },
    {
     "data": {
      "image/png": "[encoded data removed]",
      "text/plain": [
       "<Figure size 360x360 with 1 Axes>"
      ]
     },
     "metadata": {
      "needs_background": "light"
     },
     "output_type": "display_data"
    }
   ],
   "source": [
    "sns.catplot(data=rg_son)"
   ]
  },
  {
   "cell_type": "code",
   "execution_count": 294,
   "id": "7c250d96-bd38-424b-85b8-78f4bccb158a",
   "metadata": {
    "tags": []
   },
   "outputs": [
    {
     "data": {
      "text/plain": [
       "<seaborn.axisgrid.FacetGrid at 0x1c64c4d2d90>"
      ]
     },
     "execution_count": 294,
     "metadata": {},
     "output_type": "execute_result"
    },
    {
     "data": {
      "image/png": "[encoded data removed]",
      "text/plain": [
       "<Figure size 360x360 with 1 Axes>"
      ]
     },
     "metadata": {
      "needs_background": "light"
     },
     "output_type": "display_data"
    }
   ],
   "source": [
    "sns.catplot(data=cg_son)"
   ]
  },
  {
   "cell_type": "code",
   "execution_count": 293,
   "id": "e379e449-aebf-4fce-854e-d29311ed335c",
   "metadata": {},
   "outputs": [
    {
     "data": {
      "text/plain": [
       "<seaborn.axisgrid.FacetGrid at 0x1c64c6cd700>"
      ]
     },
     "execution_count": 293,
     "metadata": {},
     "output_type": "execute_result"
    },
    {
     "data": {
      "image/png": "[encoded data removed]",
      "text/plain": [
       "<Figure size 360x360 with 1 Axes>"
      ]
     },
     "metadata": {
      "needs_background": "light"
     },
     "output_type": "display_data"
    }
   ],
   "source": [
    "sns.catplot(data=dg_son)"
   ]
  },
  {
   "cell_type": "code",
   "execution_count": 298,
   "id": "b0e028bf-919f-42af-a856-86628b3b3c78",
   "metadata": {},
   "outputs": [
    {
     "data": {
      "text/plain": [
       "<AxesSubplot:ylabel='Density'>"
      ]
     },
     "execution_count": 298,
     "metadata": {},
     "output_type": "execute_result"
    },
    {
     "data": {
      "image/png": "[encoded data removed]",
      "text/plain": [
       "<Figure size 432x288 with 1 Axes>"
      ]
     },
     "metadata": {
      "needs_background": "light"
     },
     "output_type": "display_data"
    }
   ],
   "source": [
    "sns.kdeplot(data=rg_son)"
   ]
  },
  {
   "cell_type": "code",
   "execution_count": null,
   "id": "dfa6c38d-8ba3-4e11-867a-f5851a24832f",
   "metadata": {},
   "outputs": [],
   "source": []
  }
 ],
 "metadata": {
  "kernelspec": {
   "display_name": "Python 3 (ipykernel)",
   "language": "python",
   "name": "python3"
  },
  "language_info": {
   "codemirror_mode": {
    "name": "ipython",
    "version": 3
   },
   "file_extension": ".py",
   "mimetype": "text/x-python",
   "name": "python",
   "nbconvert_exporter": "python",
   "pygments_lexer": "ipython3",
   "version": "3.9.7"
  }
 },
 "nbformat": 4,
 "nbformat_minor": 5
}
